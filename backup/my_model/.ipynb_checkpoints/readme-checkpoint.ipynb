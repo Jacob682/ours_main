{
 "cells": [
  {
   "cell_type": "markdown",
   "id": "dd4cde83-b416-4998-9aff-afedc5a3d12d",
   "metadata": {},
   "source": [
    "使用社交信息做用户嵌入\n",
    "跟原文用1级，之后二级想办法加进去"
   ]
  }
 ],
 "metadata": {
  "kernelspec": {
   "display_name": "d2l",
   "language": "python",
   "name": "d2l"
  },
  "language_info": {
   "codemirror_mode": {
    "name": "ipython",
    "version": 3
   },
   "file_extension": ".py",
   "mimetype": "text/x-python",
   "name": "python",
   "nbconvert_exporter": "python",
   "pygments_lexer": "ipython3",
   "version": "3.9.18"
  }
 },
 "nbformat": 4,
 "nbformat_minor": 5
}
