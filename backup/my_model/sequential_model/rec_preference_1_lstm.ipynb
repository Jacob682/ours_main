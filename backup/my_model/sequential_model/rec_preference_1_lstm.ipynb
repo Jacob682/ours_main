{
 "cells": [
  {
   "cell_type": "code",
   "execution_count": 1,
   "id": "13424e20-ffca-4c28-a3ef-6d3e873a85a0",
   "metadata": {},
   "outputs": [],
   "source": [
    "import torch\n",
    "import torch.nn as nn\n",
    "import torch.nn.functional as f\n",
    "from torch import Tensor\n",
    "\n",
    "import pandas as pd\n",
    "import numpy as np\n",
    "from matplotlib import pyplot as plt\n",
    "import pickle"
   ]
  },
  {
   "cell_type": "code",
   "execution_count": 2,
   "id": "3c499317-604f-4e28-99a0-c9c38497ddbc",
   "metadata": {},
   "outputs": [],
   "source": [
    "#1.测试user是否可以编码\n",
    "##1.1读取所有用户数据\n",
    "dir_user='/home/jovyan/datasets/tsmc_nyc_3_groupby_user_chronological/user_id.pkl'\n",
    "with open(dir_user,'rb') as f:\n",
    "    users=pickle.load(f)\n",
    "users=torch.IntTensor(users)"
   ]
  },
  {
   "cell_type": "code",
   "execution_count": 3,
   "id": "9b70039e-37de-4f50-8483-e1f6bed9ac28",
   "metadata": {},
   "outputs": [
    {
     "name": "stdout",
     "output_type": "stream",
     "text": [
      "tensor([   1,    2,    3,  ..., 1081, 1082, 1083], dtype=torch.int32)\n",
      "1078\n"
     ]
    }
   ],
   "source": [
    "print(users)\n",
    "print(len(users))"
   ]
  },
  {
   "cell_type": "code",
   "execution_count": 4,
   "id": "df4a3907-3870-474b-ad4d-9d37e20a65f8",
   "metadata": {},
   "outputs": [],
   "source": [
    "##1.2用户数据量\n",
    "# print(len(users))#1078\n",
    "# size_user=len(users)\n",
    "size_user=max(users)+1\n",
    "##1.3测试编码\n",
    "embed_size_user=50\n",
    "user_embedder=nn.Embedding(size_user,embed_size_user)\n",
    "user_embedding=user_embedder(users)"
   ]
  },
  {
   "cell_type": "code",
   "execution_count": 5,
   "id": "eda72031-e4f3-4684-a7cd-c8a522249fc1",
   "metadata": {
    "collapsed": true,
    "jupyter": {
     "outputs_hidden": true
    },
    "tags": []
   },
   "outputs": [
    {
     "name": "stdout",
     "output_type": "stream",
     "text": [
      "{'4bf58dd8d48988d157941735': 0, '4bf58dd8d48988d1f1931735': 1, '4bf58dd8d48988d14e941735': 2, '4bf58dd8d48988d143941735': 3, '4bf58dd8d48988d1cc941735': 4, '4bf58dd8d48988d1e0931735': 5, '4bf58dd8d48988d11d941735': 6, '4bf58dd8d48988d113941735': 7, '4bf58dd8d48988d11b941735': 8, '4bf58dd8d48988d1fa931735': 9, '4bf58dd8d48988d116941735': 10, '4bf58dd8d48988d16c941735': 11, '4bf58dd8d48988d163941735': 12, '4bf58dd8d48988d147941735': 13, '4bf58dd8d48988d10c941735': 14, '4bf58dd8d48988d14c941735': 15, '4bf58dd8d48988d1c1941735': 16, '4bf58dd8d48988d123941735': 17, '4bf58dd8d48988d1ce941735': 18, '4bf58dd8d48988d155941735': 19, '4bf58dd8d48988d11e941735': 20, '5032792091d4c4b30a586d5c': 21, '4bf58dd8d48988d1f7941735': 22, '4bf58dd8d48988d117941735': 23, '4bf58dd8d48988d16f941735': 24, '4bf58dd8d48988d180941735': 25, '4bf58dd8d48988d1d4941735': 26, '4bf58dd8d48988d1ca941735': 27, '4bf58dd8d48988d190941735': 28, '4bf58dd8d48988d1ed931735': 29, '4bf58dd8d48988d16a941735': 30, '4bf58dd8d48988d1f6941735': 31, '4bf58dd8d48988d164941735': 32, '4bf58dd8d48988d1fd931735': 33, '4e74f6cabd41c4836eac4c31': 34, '4bf58dd8d48988d149941735': 35, '4bf58dd8d48988d1df941735': 36, '4bf58dd8d48988d1f5941735': 37, '4bf58dd8d48988d10c951735': 38, '4bf58dd8d48988d162941735': 39, '4bf58dd8d48988d12a951735': 40, '4bf58dd8d48988d103951735': 41, '4bf58dd8d48988d107951735': 42, '4bf58dd8d48988d105951735': 43, '4bf58dd8d48988d1dd931735': 44, '4bf58dd8d48988d11a951735': 45, '4bf58dd8d48988d11e951735': 46, '4bf58dd8d48988d129951735': 47, '4bf58dd8d48988d1e2941735': 48, '4bf58dd8d48988d1c5941735': 49, '4bf58dd8d48988d1f9931735': 50, '4f2a25ac4b909258e854f55f': 51, '4bf58dd8d48988d1d0941735': 52, '4bf58dd8d48988d137941735': 53, '4bf58dd8d48988d172941735': 54, '4bf58dd8d48988d18f941735': 55, '4bf58dd8d48988d142941735': 56, '4bf58dd8d48988d130941735': 57, '4cce455aebf7b749d5e191f5': 58, '4bf58dd8d48988d159941735': 59, '4bf58dd8d48988d1eb931735': 60, '4bf58dd8d48988d110941735': 61, '4bf58dd8d48988d121941735': 62, '4bf58dd8d48988d1f2941735': 63, '4bf58dd8d48988d122951735': 64, '4bf58dd8d48988d1fa941735': 65, '4bf58dd8d48988d17e941735': 66, '4bf58dd8d48988d1d5941735': 67, '4bf58dd8d48988d1df931735': 68, '4bf58dd8d48988d176941735': 69, '4bf58dd8d48988d17f941735': 70, '4bf58dd8d48988d1fe931735': 71, '4bf58dd8d48988d132941735': 72, '4bf58dd8d48988d118951735': 73, '4bf58dd8d48988d1ff941735': 74, '4bf58dd8d48988d1f2931735': 75, '4bf58dd8d48988d10f951735': 76, '4bf58dd8d48988d14f941735': 77, '4bf58dd8d48988d196941735': 78, '4bf58dd8d48988d136941735': 79, '4bf58dd8d48988d134941735': 80, '4bf58dd8d48988d153941735': 81, '4bf58dd8d48988d1e5931735': 82, '4bf58dd8d48988d1fd941735': 83, '4bf58dd8d48988d177941735': 84, '4f4531504b9074f6e4fb0102': 85, '4bf58dd8d48988d16e941735': 86, '4f2a23984b9023bd5841ed2c': 87, '4bf58dd8d48988d114951735': 88, '4bf58dd8d48988d1e0941735': 89, '4bf58dd8d48988d1f8941735': 90, '4bf58dd8d48988d127951735': 91, '4bf58dd8d48988d154941735': 92, '4bf58dd8d48988d181941735': 93, '4bf58dd8d48988d1e9931735': 94, '4bf58dd8d48988d179941735': 95, '4bf58dd8d48988d1bc941735': 96, '4bf58dd8d48988d144941735': 97, '4bf58dd8d48988d1e2931735': 98, '4bf58dd8d48988d120941735': 99, '4bf58dd8d48988d175941735': 100, '4bf58dd8d48988d102941735': 101, '4eb1bc533b7b2c5b1d4306cb': 102, '4bf58dd8d48988d106941735': 103, '4bf58dd8d48988d1c4941735': 104, '4bf58dd8d48988d152941735': 105, '4bf58dd8d48988d145941735': 106, '4bf58dd8d48988d151941735': 107, '4bf58dd8d48988d10b941735': 108, '4bf58dd8d48988d1d2941735': 109, '4bf58dd8d48988d1c9941735': 110, '4bf58dd8d48988d1cb941735': 111, '4bf58dd8d48988d12d951735': 112, '50be8ee891d4fa8dcc7199a7': 113, '4bf58dd8d48988d1dc931735': 114, '4bf58dd8d48988d125941735': 115, '4bf58dd8d48988d119941735': 116, '4bf58dd8d48988d115951735': 117, '4bf58dd8d48988d1d3941735': 118, '4bf58dd8d48988d1d1941735': 119, '4bf58dd8d48988d156941735': 120, '4bf58dd8d48988d15f941735': 121, '4bf58dd8d48988d10f941735': 122, '4bf58dd8d48988d10d941735': 123, '4bf58dd8d48988d184941735': 124, '4bf58dd8d48988d1ec931735': 125, '4bf58dd8d48988d17b941735': 126, '4bf58dd8d48988d112951735': 127, '4bf58dd8d48988d189941735': 128, '4bf58dd8d48988d104951735': 129, '4bf58dd8d48988d11f941735': 130, '4bf58dd8d48988d100951735': 131, '4bf58dd8d48988d14a941735': 132, '4bf58dd8d48988d121951735': 133, '4deefb944765f83613cdba6e': 134, '4bf58dd8d48988d112941735': 135, '4bf58dd8d48988d1bd941735': 136, '4bf58dd8d48988d16d941735': 137, '4d4ae6fc7a7b7dea34424761': 138, '4bf58dd8d48988d1ff931735': 139, '4bf58dd8d48988d1a2941735': 140, '4bf58dd8d48988d18e941735': 141, '4bf58dd8d48988d198941735': 142, '4bf58dd8d48988d185941735': 143, '4bf58dd8d48988d15a941735': 144, '4bf58dd8d48988d188941735': 145, '4bf58dd8d48988d18c941735': 146, '4bf58dd8d48988d118941735': 147, '4bf58dd8d48988d1e4931735': 148, '4bf58dd8d48988d139941735': 149, '4bf58dd8d48988d11d951735': 150, '4bf58dd8d48988d103941735': 151, '50aa9e094b90af0d42d5de0d': 152, '4bf58dd8d48988d119951735': 153, '4bf58dd8d48988d122941735': 154, '4bf58dd8d48988d1ae941735': 155, '4bf58dd8d48988d1fb941735': 156, '4bf58dd8d48988d102951735': 157, '4bf58dd8d48988d10e941735': 158, '4bf58dd8d48988d106951735': 159, '4bf58dd8d48988d146941735': 160, '4bf58dd8d48988d1e7931735': 161, '4bf58dd8d48988d1e3931735': 162, '4bf58dd8d48988d1c2941735': 163, '4bf58dd8d48988d111941735': 164, '4bf58dd8d48988d12d941735': 165, '4bf58dd8d48988d171941735': 166, '4bf58dd8d48988d1f4941735': 167, '4bf58dd8d48988d12f941735': 168, '4bf58dd8d48988d12b951735': 169, '4bf58dd8d48988d165941735': 170, '4bf58dd8d48988d1d8941735': 171, '4bf58dd8d48988d1f6931735': 172, '4bf58dd8d48988d117951735': 173, '4bf58dd8d48988d1f4931735': 174, '4bf58dd8d48988d126941735': 175, '4bf58dd8d48988d1f3941735': 176, '4bf58dd8d48988d10b951735': 177, '4bf58dd8d48988d135941735': 178, '4bf58dd8d48988d120951735': 179, '4bf58dd8d48988d1a7941735': 180, '4bf58dd8d48988d12b941735': 181, '4bf58dd8d48988d1ac941735': 182, '4bf58dd8d48988d169941735': 183, '4bf58dd8d48988d1c0941735': 184, '4bf58dd8d48988d1bf941735': 185, '4bf58dd8d48988d1be941735': 186, '4cae28ecbf23941eb1190695': 187, '4f4534884b9074f6e4fb0174': 188, '4bf58dd8d48988d11a941735': 189, '4bf58dd8d48988d1c7941735': 190, '4f4528bc4b90abdf24c9de85': 191, '4bf58dd8d48988d124941735': 192, '4bf58dd8d48988d18b941735': 193, '4bf58dd8d48988d148941735': 194, '4bf58dd8d48988d104941735': 195, '4bf58dd8d48988d100941735': 196, '4bf58dd8d48988d1db931735': 197, '50327c8591d4c4b30a586d5d': 198, '503287a291d4c4b30a586d65': 199, '4bf58dd8d48988d161941735': 200, '4bf58dd8d48988d109941735': 201, '4bf58dd8d48988d1f9941735': 202, '4bf58dd8d48988d108941735': 203, '4bf58dd8d48988d182941735': 204, '4bf58dd8d48988d10e951735': 205, '4bf58dd8d48988d11c941735': 206, '4bf58dd8d48988d1f5931735': 207, '4bf58dd8d48988d1e5941735': 208, '4bf58dd8d48988d115941735': 209, '4bf58dd8d48988d13b941735': 210, '4d954b06a243a5684965b473': 211, '4bf58dd8d48988d186941735': 212, '4bf58dd8d48988d166941735': 213, '50aaa49e4b90af0d42d5de11': 214, '4bf58dd8d48988d168941735': 215, '4bf58dd8d48988d15e941735': 216, '4bf58dd8d48988d187941735': 217, '4bf58dd8d48988d1e7941735': 218, '4bf58dd8d48988d16b941735': 219, '4bf58dd8d48988d17c941735': 220, '4bf58dd8d48988d1e1931735': 221, '4bf58dd8d48988d1cd941735': 222, '4d4b7105d754a06379d81259': 223, '4bf58dd8d48988d15c941735': 224, '4bf58dd8d48988d1fc931735': 225, '4bf58dd8d48988d1fe941735': 226, '4bf58dd8d48988d123951735': 227, '4bf58dd8d48988d108951735': 228, '4bf58dd8d48988d12c941735': 229, '4f04b25d2fb6e1c99f3db0c0': 230, '4e51a0c0bd41d3446defbb2e': 231, '4bf58dd8d48988d111951735': 232, '4bf58dd8d48988d109951735': 233, '4bf58dd8d48988d1b1941735': 234, '4d954b0ea243a5684a65b473': 235, '4bf58dd8d48988d174941735': 236, '4bf58dd8d48988d10d951735': 237, '4bf58dd8d48988d191941735': 238, '4bf58dd8d48988d129941735': 239, '4eb1bdf03b7b55596b4a7491': 240, '4bf58dd8d48988d113951735': 241, '4bf58dd8d48988d128951735': 242, '4bf58dd8d48988d1ab941735': 243, '4eb1d4dd4b900d56c88a45fd': 244, '4d4b7105d754a06375d81259': 245, '4bf58dd8d48988d1e1941735': 246, '4bf58dd8d48988d150941735': 247, '4fceea171983d5d06c3e9823': 248, '4bf58dd8d48988d17a941735': 249, '4bf58dd8d48988d124951735': 250, '4d4b7105d754a06374d81259': 251, '4bf58dd8d48988d101951735': 252, '4bf58dd8d48988d10a951735': 253, '4bf58dd8d48988d14d941735': 254, '4bf58dd8d48988d1ed941735': 255, '4d4b7104d754a06370d81259': 256, '50aaa4314b90af0d42d5de10': 257, '4bf58dd8d48988d158941735': 258, '4bf58dd8d48988d1a8941735': 259, '4f04aa0c2fb6e1c99f3db0b8': 260, '4bf58dd8d48988d110951735': 261, '4eb1daf44b900d56c88a4600': 262, '4bf58dd8d48988d130951735': 263, '4eb1bd1c3b7b55596b4a748f': 264, '4bf58dd8d48988d1e6941735': 265, '4edd64a0c7ddd24ca188df1a': 266, '4bf58dd8d48988d197941735': 267, '4bf58dd8d48988d1e4941735': 268, '4eb1bea83b7b6f98df247e06': 269, '4bf58dd8d48988d1d6941735': 270, '4d4b7105d754a06372d81259': 271, '4bf58dd8d48988d1f1941735': 272, '4bf58dd8d48988d19a941735': 273, '4bf58dd8d48988d1e8931735': 274, '4f04af1f2fb6e1c99f3db0bb': 275, '4c38df4de52ce0d596b336e1': 276, '4bf58dd8d48988d1a5941735': 277, '4eb1bfa43b7b52c0e1adc2e8': 278, '4bf58dd8d48988d1c6941735': 279, '50328a8e91d4c4b30a586d6c': 280, '503289d391d4c4b30a586d6a': 281, '4bf58dd8d48988d12e941735': 282, '4bf58dd8d48988d199941735': 283, '4bf58dd8d48988d1b2941735': 284}\n"
     ]
    }
   ],
   "source": [
    "#2测试cat是否可以编码，cat包含十六进制\n",
    "##2.1读字典数据\n",
    "dir_cat='/home/jovyan/datasets/tsmc_nyc_6_distinguish_cat_poi/distin_dic_cat_id.pkl'\n",
    "with open(dir_cat,'rb') as f:\n",
    "    dic_cat_id=pickle.load(f)\n",
    "print(dic_cat_id)"
   ]
  },
  {
   "cell_type": "code",
   "execution_count": 6,
   "id": "5f56c7fd-4f76-4f26-930f-1406bbfb0888",
   "metadata": {},
   "outputs": [
    {
     "name": "stdout",
     "output_type": "stream",
     "text": [
      "<class 'dict'>\n"
     ]
    }
   ],
   "source": [
    "##查看数据\n",
    "print(type(dic_cat_id))"
   ]
  },
  {
   "cell_type": "code",
   "execution_count": 7,
   "id": "633cb7d8-a483-4122-8ae7-cbf9787fac9b",
   "metadata": {
    "tags": []
   },
   "outputs": [],
   "source": [
    "##2.2生成index列表和IntTensor\n",
    "cat_id=[i for i in range(len(dic_cat_id))]\n",
    "cat_id=torch.IntTensor(cat_id)"
   ]
  },
  {
   "cell_type": "code",
   "execution_count": 8,
   "id": "f7e8977b-a02a-4d99-b6a0-d2418a154ff0",
   "metadata": {
    "tags": []
   },
   "outputs": [
    {
     "name": "stdout",
     "output_type": "stream",
     "text": [
      "<class 'torch.Tensor'>\n"
     ]
    }
   ],
   "source": [
    "print(type(cat_id))"
   ]
  },
  {
   "cell_type": "code",
   "execution_count": 9,
   "id": "c9127bdd-9e3f-4e3d-a1e3-f9950ab0c241",
   "metadata": {},
   "outputs": [],
   "source": [
    "##2.3cat嵌入\n",
    "size_cat=len(cat_id)\n",
    "embed_size_cat=100\n",
    "cat_embeder=nn.Embedding(size_cat,embed_size_cat)\n",
    "cat_embedding=cat_embeder(cat_id)"
   ]
  },
  {
   "cell_type": "code",
   "execution_count": 10,
   "id": "26c12431-f312-4a62-a521-d345dc73e8a6",
   "metadata": {},
   "outputs": [],
   "source": [
    "#3测试能否拼接\n",
    "##3.1读delta_t数据\n",
    "dir_rec_delta_t='/home/jovyan/datasets/tsmc_nyc_5_deltat_delta_d/rec_delta_t.pkl'\n",
    "with open(dir_rec_delta_t,'rb') as f:\n",
    "    rec_delta_t=pickle.load(f)"
   ]
  },
  {
   "cell_type": "code",
   "execution_count": 11,
   "id": "55e81db5-d432-45d1-bc44-4dd1ec4783f3",
   "metadata": {},
   "outputs": [],
   "source": [
    "##3.2做padding函数，返回padded数据和valid_len\n",
    "def Padding_valid_len(data):\n",
    "    '''\n",
    "    在data最后一维对齐\n",
    "    '''\n",
    "    max_len,lens=Find_maxlen_lens(data)\n",
    "    padded_data=Padding(data,max_len,lens)\n",
    "    # padded_data=Tensor(padded_data)\n",
    "    return padded_data,max_len,lens"
   ]
  },
  {
   "cell_type": "code",
   "execution_count": 12,
   "id": "80f06fc6-d848-49da-95db-95bcdb14a43d",
   "metadata": {},
   "outputs": [],
   "source": [
    "#3.2.1计算max_len和valid_len\n",
    "def Find_maxlen_lens(data,lens=None):\n",
    "    if lens is None:\n",
    "        lens=[]\n",
    "    if not isinstance(data,list):\n",
    "        return 0,lens\n",
    "    if not data:\n",
    "        return 0,lens\n",
    "    if all(not isinstance(sublist,list) for sublist in data):\n",
    "        length=len(data)\n",
    "        lens.append(length)\n",
    "        return length,lens\n",
    "    max_len=max(Find_maxlen_lens(sublist,lens)[0] for sublist in data)\n",
    "    return max_len,lens"
   ]
  },
  {
   "cell_type": "code",
   "execution_count": 13,
   "id": "58fd561e-86dc-4fa0-bc27-b285523fc2c4",
   "metadata": {},
   "outputs": [],
   "source": [
    "##3.2.3根据maxlen，valid_len,用0做padding\n",
    "def Padding(data,max_len,lens):\n",
    "    if not isinstance(data,list):\n",
    "        return data\n",
    "    if all(not isinstance(sublist,list) for sublist in data):\n",
    "        return data+[0]*(max_len-len(data))\n",
    "    return torch.IntTensor([Padding(sublist,max_len,lens) for sublist in data])"
   ]
  },
  {
   "cell_type": "code",
   "execution_count": 14,
   "id": "007c4be8-3228-46b8-a897-d1ae2db992d9",
   "metadata": {},
   "outputs": [
    {
     "name": "stdout",
     "output_type": "stream",
     "text": [
      "最小维度上的最大长度: 5\n",
      "[3, 4, 5, 4]\n",
      "padded:tensor([[ 1,  2,  3,  0,  0],\n",
      "        [ 4,  5,  6,  7,  0],\n",
      "        [10, 11, 12, 13, 14],\n",
      "        [15, 16, 17, 18,  0]], dtype=torch.int32)\n"
     ]
    }
   ],
   "source": [
    "##3.2.2测试返回结果\n",
    "nested_list = [[1, 2, 3], [4, 5, 6, 7], [10, 11, 12, 13, 14], [15, 16, 17, 18]]\n",
    "padded,max_length,lens = Padding_valid_len(nested_list)\n",
    "# padded=Tensor(padded)\n",
    "print(\"最小维度上的最大长度:\", max_length)\n",
    "print(lens)\n",
    "print(f'padded:{padded}')"
   ]
  },
  {
   "cell_type": "code",
   "execution_count": 15,
   "id": "b9d1602b-3b7f-49f6-8d5a-7042413352e8",
   "metadata": {
    "tags": []
   },
   "outputs": [
    {
     "name": "stdout",
     "output_type": "stream",
     "text": [
      "padded_delta_t:tensor([[   67613,    87274,   356947,  ...,   435024, 10751110,   162465],\n",
      "        [ 7512611,  3876121,    24153,  ...,   685830,    13488,     3423],\n",
      "        [    4092,   344985,   253180,  ...,    75781,   476178,  3580557],\n",
      "        ...,\n",
      "        [  444307,   665732,   333925,  ...,   485888,        0,        0],\n",
      "        [     465,       47,   129815,  ...,      140,   206693,   929301],\n",
      "        [  102170,    17419,  1082673,  ...,     1742,   499759,    49031]],\n",
      "       dtype=torch.int32)\n"
     ]
    },
    {
     "name": "stderr",
     "output_type": "stream",
     "text": [
      "/tmp/ipykernel_377/2476922.py:7: DeprecationWarning: an integer is required (got type float).  Implicit conversion to integers using __int__ is deprecated, and may be removed in a future version of Python.\n",
      "  return torch.IntTensor([Padding(sublist,max_len,lens) for sublist in data])\n"
     ]
    }
   ],
   "source": [
    "#3.3做delta_t的padding和valid_len\n",
    "padded_rec_delta_t,max_len,lens=Padding_valid_len(rec_delta_t)#max_len,lens都一样\n",
    "# print(f\"max_len:{max_len},len:{lens}\")\n",
    "print(f'padded_delta_t:{padded_rec_delta_t}')"
   ]
  },
  {
   "cell_type": "code",
   "execution_count": 16,
   "id": "7f06b67b-ce94-49de-a1c9-893133ea9aa6",
   "metadata": {},
   "outputs": [
    {
     "name": "stderr",
     "output_type": "stream",
     "text": [
      "/tmp/ipykernel_377/2476922.py:7: DeprecationWarning: an integer is required (got type float).  Implicit conversion to integers using __int__ is deprecated, and may be removed in a future version of Python.\n",
      "  return torch.IntTensor([Padding(sublist,max_len,lens) for sublist in data])\n"
     ]
    }
   ],
   "source": [
    "#做delta_d的padding\n",
    "#max_len,lens一样，用padding就可以\n",
    "#读delta_d数据\n",
    "dir_rec_delta_d='/home/jovyan/datasets/tsmc_nyc_5_deltat_delta_d/rec_delta_d.pkl'\n",
    "with open(dir_rec_delta_d,'rb') as f:\n",
    "    rec_delta_d=pickle.load(f)\n",
    "padded_rec_delta_d=Padding(rec_delta_d,max_len,lens)"
   ]
  },
  {
   "cell_type": "code",
   "execution_count": 17,
   "id": "22216c94-06e0-42a6-a008-791c5bc7dfa6",
   "metadata": {},
   "outputs": [],
   "source": [
    "#4做rec_cat_id的padding\n",
    "#4.1读rec_cat_id_reindex(重编码的cat_id)\n",
    "dir_rec_cat_id_reindex='/home/jovyan/datasets/tsmc_nyc_4_recent_target/rec_cat_id_reindex.pkl'\n",
    "with open(dir_rec_cat_id_reindex,'rb') as f:\n",
    "    rec_cat_id_reindex=pickle.load(f)"
   ]
  },
  {
   "cell_type": "code",
   "execution_count": 18,
   "id": "3ee8d972-6564-4426-abe3-e5bcbf1f060f",
   "metadata": {},
   "outputs": [],
   "source": [
    "#4.2padding\n",
    "padded_rec_cat_id=Padding(rec_cat_id_reindex,max_len,lens)"
   ]
  },
  {
   "cell_type": "code",
   "execution_count": 19,
   "id": "35c5c963-b449-40df-9600-95c88cd3cdb6",
   "metadata": {
    "tags": []
   },
   "outputs": [],
   "source": [
    "#5定义模型\n",
    "class RecPreferenceModel(nn.Module):\n",
    "    def __init__(self,embed_size_user,embed_size_cat,hidden_size,\n",
    "                size_user,size_cat,size_poi,\n",
    "                num_layers,dropout=0.1):\n",
    "        super(RecPreferenceModel,self).__init__()\n",
    "        \n",
    "        self.embed_user=nn.Embedding(size_user,embed_size_user)\n",
    "        self.embed_cat=nn.Embedding(size_cat,embed_size_cat)\n",
    "        \n",
    "        lstm_size=embed_size_user+embed_size_cat\n",
    "        self.lstm=nn.LSTM(lstm_size,hidden_size,num_layers,batch_first=True,dropout=dropout)\n",
    "        self.fc=nn.Linear(hidden_size,size_poi)\n",
    "    \n",
    "    def forward(self,inputs_user,inputs_cat,inputs_delta_t,inputs_delta_d):\n",
    "        '''\n",
    "        inputs_cat、inputs_delta_t,inputs_delta_d是padding之后的\n",
    "        '''\n",
    "        inputs_user=self.embed_user(inputs_user).unsqueeze(1).repeat(1,inputs_cat.size(1),1)#(n_user,1)->(n_user,seq_len,1)\n",
    "        inputs_cat=self.embed_cat(inputs_cat)#(n_user,seq_len,embed_cat)\n",
    "        inputs_delta_t=inputs_delta_t.unsqueeze(2)#(n_users,seq_len,1)\n",
    "        inputs_delta_d=inputs_delta_d.unsqueeze(2)#(n_users,seq_len,1)\n",
    "        inputs=torch.cat((inputs_user,inputs_cat,inputs_delta_t,inputs_delta_d),2)\n",
    "        output,_=self.lstm(inputs)\n",
    "        out=self.fc(output)\n",
    "        return out"
   ]
  },
  {
   "cell_type": "code",
   "execution_count": 20,
   "id": "cea429d6-3a4f-464e-9d58-9fc7503ebca3",
   "metadata": {},
   "outputs": [
    {
     "name": "stderr",
     "output_type": "stream",
     "text": [
      "/home/jovyan/.conda/envs/d2l/lib/python3.9/site-packages/torch/nn/modules/rnn.py:82: UserWarning: dropout option adds dropout after all but last recurrent layer, so non-zero dropout expects num_layers greater than 1, but got dropout=0.1 and num_layers=1\n",
      "  warnings.warn(\"dropout option adds dropout after all but last \"\n"
     ]
    }
   ],
   "source": [
    "#5.1验证模型\n",
    "##5.1.1声明模型\n",
    "hidden_size=128\n",
    "num_layers=1\n",
    "size_poi=3906\n",
    "rec_pre_model=RecPreferenceModel(embed_size_user,embed_size_cat,hidden_size,size_user,size_cat,size_poi,num_layers)"
   ]
  },
  {
   "cell_type": "code",
   "execution_count": 21,
   "id": "e0e7110a-1e38-4d8c-9cf3-b4036fe9c22d",
   "metadata": {},
   "outputs": [
    {
     "name": "stdout",
     "output_type": "stream",
     "text": [
      "tensor([[ 24,   5,   5,  ...,  11,  29,  21],\n",
      "        [ 48,   5,  31,  ...,  53,  54,  33],\n",
      "        [ 10,  24,   2,  ...,  67,  61,  60],\n",
      "        ...,\n",
      "        [ 30,  70,  30,  ...,  40,   0,   0],\n",
      "        [ 47,  47, 125,  ...,  33,  33,  83],\n",
      "        [ 10,  10,  95,  ...,  16,  10,  69]], dtype=torch.int32)\n"
     ]
    }
   ],
   "source": [
    "##5.1.2处理待传入数据\n",
    "###5.1.2.1users，可以直接传\n",
    "###5.1.2.2cat_id在传入前需要用重编码之后的所有数据，padding\n",
    "#检查padded_reindex_cat_id数据\n",
    "print(padded_rec_cat_id)"
   ]
  },
  {
   "cell_type": "code",
   "execution_count": 22,
   "id": "4ce745e0-45aa-4185-9faf-d768042bc647",
   "metadata": {},
   "outputs": [
    {
     "name": "stdout",
     "output_type": "stream",
     "text": [
      "tensor([[   67613,    87274,   356947,  ...,   435024, 10751110,   162465],\n",
      "        [ 7512611,  3876121,    24153,  ...,   685830,    13488,     3423],\n",
      "        [    4092,   344985,   253180,  ...,    75781,   476178,  3580557],\n",
      "        ...,\n",
      "        [  444307,   665732,   333925,  ...,   485888,        0,        0],\n",
      "        [     465,       47,   129815,  ...,      140,   206693,   929301],\n",
      "        [  102170,    17419,  1082673,  ...,     1742,   499759,    49031]],\n",
      "       dtype=torch.int32)\n"
     ]
    }
   ],
   "source": [
    "#5.1.2.3传入padded_rec_delta_t\n",
    "print(padded_rec_delta_t)"
   ]
  },
  {
   "cell_type": "code",
   "execution_count": 23,
   "id": "56945541-81e6-4205-b806-c0d1ba8bec04",
   "metadata": {},
   "outputs": [],
   "source": [
    "out=rec_pre_model(users,padded_rec_cat_id,padded_rec_delta_t,padded_rec_delta_d)"
   ]
  },
  {
   "cell_type": "code",
   "execution_count": 24,
   "id": "5533ed56-b15a-44c2-a023-602aaf505367",
   "metadata": {},
   "outputs": [
    {
     "name": "stdout",
     "output_type": "stream",
     "text": [
      "285\n"
     ]
    }
   ],
   "source": [
    "print(size_cat)"
   ]
  },
  {
   "cell_type": "code",
   "execution_count": null,
   "id": "0eff7e4a-ab34-4201-a12e-d01651656368",
   "metadata": {},
   "outputs": [],
   "source": []
  }
 ],
 "metadata": {
  "kernelspec": {
   "display_name": "d2l",
   "language": "python",
   "name": "d2l"
  },
  "language_info": {
   "codemirror_mode": {
    "name": "ipython",
    "version": 3
   },
   "file_extension": ".py",
   "mimetype": "text/x-python",
   "name": "python",
   "nbconvert_exporter": "python",
   "pygments_lexer": "ipython3",
   "version": "3.9.18"
  },
  "toc-showmarkdowntxt": true
 },
 "nbformat": 4,
 "nbformat_minor": 5
}
