{
 "cells": [
  {
   "cell_type": "code",
   "execution_count": 4,
   "id": "20b86f30-4dd5-418a-b32d-bc0e2b334838",
   "metadata": {},
   "outputs": [],
   "source": [
    "import pandas as pd\n",
    "import numpy as np\n",
    "import torch\n",
    "import torch.nn.functional as F\n",
    "from torch.utils.data import DataLoader,Dataset\n",
    "import pickle\n",
    "import os\n",
    "import datetime\n",
    "from pandas import Timestamp"
   ]
  },
  {
   "cell_type": "code",
   "execution_count": 13,
   "id": "2d204cf6-98fc-4147-b10c-304f3e35b85e",
   "metadata": {},
   "outputs": [],
   "source": [
    "#自定义dataset\n",
    "class RecDataset(Dataset):\n",
    "    def __init__(self,rec_cat_id,rec_delta_t,rec_delta_d,tgt):\n",
    "        self.rec_cat_id=rec_cat_id\n",
    "        self.rec_delta_t=rec_delta_t\n",
    "        self.rec_delta_d=rec_delta_d\n",
    "        self.tgt=tgt\n",
    "    def __len__(self):\n",
    "        return len(self.rec_cat_id)#长度相同\n",
    "    def __getitem__(self,index):\n",
    "        cat_id=self.rec_cat_id[index]\n",
    "        delta_t=self.rec_delta_t[index]\n",
    "        delta_d=self.rec_delta_d[index]\n",
    "        tgt_item=self.tgt[index]\n",
    "        return cat_id,delta_t,delta_d,tgt_item"
   ]
  },
  {
   "cell_type": "code",
   "execution_count": 10,
   "id": "2324a090-8b43-4013-ba45-7003d2270529",
   "metadata": {},
   "outputs": [],
   "source": [
    "#1验证成功\n",
    "##1.1读数据\n",
    "rec_dir='/home/jovyan/datasets/tsmc_nyc_4_recent_target'\n",
    "delta_dir='/home/jovyan/datasets/tsmc_nyc_5_deltat_delta_d'\n",
    "#读rec_cat_id,delta_t,delta_d,target\n",
    "dir_name=['rec_cat_id.pkl','tgt_info.pkl','rec_delta_t.pkl','rec_delta_d.pkl']\n",
    "var_name=['rec_cat_id','tgt','rec_delta_t','rec_delta_d']\n",
    "for d,v in zip(dir_name[0:2],var_name[0:2]):\n",
    "    with open(os.path.join(rec_dir,d),'rb') as f:\n",
    "        exec(f'{v}={pickle.load(f)}')\n",
    "    \n",
    "for d,v in zip(dir_name[2:],var_name[2:]):\n",
    "    with open(os.path.join(delta_dir,d),'rb') as f:\n",
    "        exec(f'{v}={pickle.load(f)}')"
   ]
  },
  {
   "cell_type": "code",
   "execution_count": 17,
   "id": "cc319c06-cbfe-4305-984e-421e7d6e193b",
   "metadata": {},
   "outputs": [],
   "source": [
    "##1.2创建数据集实例\n",
    "rec_dataset=RecDataset(rec_cat_id,rec_delta_t,rec_delta_d,tgt)"
   ]
  },
  {
   "cell_type": "code",
   "execution_count": 16,
   "id": "b52618a7-77cd-4bdb-8ae1-30a9a411491b",
   "metadata": {},
   "outputs": [],
   "source": [
    "##1.3创建dataloader\n",
    "# batch_size=5\n",
    "dataloader=DataLoader(rec_dataset,batch_size=5,shuffle=True)"
   ]
  },
  {
   "cell_type": "code",
   "execution_count": null,
   "id": "60cb20a7-a5f8-470b-8526-c67ac2e91f6f",
   "metadata": {},
   "outputs": [],
   "source": []
  }
 ],
 "metadata": {
  "kernelspec": {
   "display_name": "d2l",
   "language": "python",
   "name": "d2l"
  },
  "language_info": {
   "codemirror_mode": {
    "name": "ipython",
    "version": 3
   },
   "file_extension": ".py",
   "mimetype": "text/x-python",
   "name": "python",
   "nbconvert_exporter": "python",
   "pygments_lexer": "ipython3",
   "version": "3.9.18"
  }
 },
 "nbformat": 4,
 "nbformat_minor": 5
}
