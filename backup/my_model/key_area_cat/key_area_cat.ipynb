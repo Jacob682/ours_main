{
 "cells": [
  {
   "cell_type": "code",
   "execution_count": 1,
   "id": "fe80ca98-9dab-4157-9d80-b84464e653c9",
   "metadata": {},
   "outputs": [],
   "source": [
    "import pickle\n",
    "import numpy as np\n",
    "import pandas as pd\n",
    "import math\n",
    "import warnings\n",
    "warnings.filterwarnings('ignore')"
   ]
  },
  {
   "cell_type": "code",
   "execution_count": 2,
   "id": "817d2d7b-a114-458d-bd6c-46d26617732e",
   "metadata": {},
   "outputs": [
    {
     "name": "stdout",
     "output_type": "stream",
     "text": [
      "len of 100th user checkins：59\n",
      "1st user checkin second id：[0, 1, 2, 3, 3, 3, 4, 0, 4, 5, 4, 3, 3, 6, 4, 3, 2, 3, 7, 2, 4, 3, 0, 3, 0, 8, 6, 4, 1, 3, 2, 3, 3, 4, 1, 9, 4, 3, 3, 3, 3, 3, 3, 6, 3, 4, 10, 0, 4, 3, 10, 4, 4, 11, 3, 3, 11, 1, 11]\n",
      "revers:[11, 1, 11, 3, 3, 11, 4, 4, 10, 3, 4, 0, 10, 4, 3, 6, 3, 3, 3, 3, 3, 3, 4, 9, 1, 4, 3, 3, 2, 3, 1, 4, 6, 8, 0, 3, 0, 3, 4, 2, 7, 3, 2, 3, 4, 6, 3, 3, 4, 5, 4, 0, 4, 3, 3, 3, 2, 1, 0]\n"
     ]
    }
   ],
   "source": [
    "#1获取第一个用户打卡的combined_second_cat_id信息\n",
    "#1.1获取所有用户combined_second_cat_id\n",
    "with open('/home/jovyan/datasets/tsmc_nyc_6_distinguish_cat_poi/reindex_second_cat_id.pkl','rb') as f:\n",
    "    users_combined_second_cat_id=pickle.load(f)\n",
    "#1.2取第100个用户\n",
    "user_combined_second_cat_id=users_combined_second_cat_id[0]\n",
    "revers_user_combined_second_cat_id=user_combined_second_cat_id[::-1]\n",
    "print(f'len of 100th user checkins：{len(user_combined_second_cat_id)}')\n",
    "print(f'1st user checkin second id：{user_combined_second_cat_id}')\n",
    "print(f'revers:{revers_user_combined_second_cat_id}')"
   ]
  },
  {
   "cell_type": "code",
   "execution_count": 3,
   "id": "82f1c644-2812-4c26-b04d-4fad15d67b2a",
   "metadata": {},
   "outputs": [],
   "source": [
    "'''以最后一个为测试，用之前的数据计算'''\n",
    "#2.需要知道所有的种类\n",
    "#2.1读所有的种类字典\n",
    "with open('/home/jovyan/datasets/tsmc_nyc_6_distinguish_cat_poi/distin_dic_second_cat_id.pkl','rb') as f:\n",
    "    distin_dic_second_cat_id=pickle.load(f)#combined_second_id:reindex\n",
    "#2.2打卡中所出现second_cat_id个数\n",
    "len_second_reindex=len(distin_dic_second_cat_id)#53\n",
    "combined_second_reindex_id=list(distin_dic_second_cat_id.values())"
   ]
  },
  {
   "cell_type": "code",
   "execution_count": 4,
   "id": "a2ec5b32-e113-4533-9b54-8097b7ed18b6",
   "metadata": {},
   "outputs": [],
   "source": [
    "# 3整个打卡序列的概率、53个打卡概率\n",
    "# g_uc=[0]*len_second_reindex\n",
    "# len_user_checkin=len(user_combined_second_cat_id)\n",
    "# for checkin_second_cat in user_combined_second_cat_id:#循环用户打卡\n",
    "#     if checkin_second_cat in combined_second_reindex_id:#如果这个打卡种类id在所有二级目录中\n",
    "#         g_uc[combined_second_reindex_id.index(checkin_second_cat)]+=1#则在相应位置累加1\n",
    "# g_uc=np.array(g_uc)/len_user_checkin#array\n",
    "# print(g_uc.sum())"
   ]
  },
  {
   "cell_type": "code",
   "execution_count": 5,
   "id": "6f7dee89-11f0-4bdb-a6dc-d96aa1c28eac",
   "metadata": {},
   "outputs": [
    {
     "name": "stdout",
     "output_type": "stream",
     "text": [
      "[0.08474576 0.06779661 0.06779661 0.37288136 0.20338983 0.01694915\n",
      " 0.05084746 0.01694915 0.01694915 0.01694915 0.03389831 0.05084746\n",
      " 0.         0.         0.         0.         0.         0.\n",
      " 0.         0.         0.         0.         0.         0.\n",
      " 0.         0.         0.         0.         0.         0.\n",
      " 0.         0.         0.         0.         0.         0.\n",
      " 0.         0.         0.         0.         0.         0.\n",
      " 0.         0.         0.         0.         0.         0.\n",
      " 0.         0.         0.         0.         0.        ]\n"
     ]
    }
   ],
   "source": [
    "#3.2将概率封装成函数\n",
    "def Compute_probability(checkins,second_cat_id):\n",
    "    '''\n",
    "    len_p:离散概率的长度,int\n",
    "    checkins：用户的打卡列表，这里指的是所有打卡列表/月周期的打卡列表,list\n",
    "    second_cat_id:所有的second_cat_id,用于找离散概率的相应位置,list\n",
    "    return:prob,np.array\n",
    "    '''\n",
    "    prob=[0]*len(second_cat_id)\n",
    "    len_checkin=len(checkins)#用于做概率相除的分母\n",
    "    for c in checkins:\n",
    "        prob[second_cat_id.index(c)]+=1\n",
    "    fre_uc=prob#该用户在所有种类上的频度\n",
    "    prob=np.array(prob)/len_checkin\n",
    "    return prob,fre_uc\n",
    "#测试结果\n",
    "len_user_checkin=len(user_combined_second_cat_id)\n",
    "g_uc,_=Compute_probability(user_combined_second_cat_id,combined_second_reindex_id)\n",
    "print(g_uc)#对数组使用数组内置方法array.sum()，不要使用sum(array)否则有误差"
   ]
  },
  {
   "cell_type": "code",
   "execution_count": 6,
   "id": "3241c305-9840-453d-8bbc-d47f1e1c998e",
   "metadata": {},
   "outputs": [],
   "source": [
    "#3.4二维列表计算每个子列表的频率\n",
    "def Compute_period_prob(len_period,checkins_2d,second_cat_id):\n",
    "    '''\n",
    "    len_period:时期个数，int\n",
    "    checkins_2d:二维打卡数据。每个时期对应的打卡种类，\n",
    "    （长度为时期个数，时期内打卡长度），若某时期无打卡，为空列表。2d list\n",
    "    second_cat_id:所有second_cat_id,用于找离散概率的相应位置，list\n",
    "    return:pro_2d:如果某个时期没有打卡，则这个打卡概率保持空列表。(时期个数，所有二级列表的长度53)2d list\n",
    "    '''\n",
    "    pro_2d=[[0]]*len_period\n",
    "    #对每个时期计算\n",
    "    for index,j in enumerate(checkins_2d):\n",
    "        if j:#若j不为空列表，则计算该列表内的概率\n",
    "            j_pro,_=Compute_probability(j,second_cat_id)\n",
    "            #将这个时期的概率，更新到2d_pro\n",
    "            pro_2d[index]=j_pro\n",
    "        if not j:\n",
    "            pro_2d[index]=j\n",
    "    return pro_2d"
   ]
  },
  {
   "cell_type": "code",
   "execution_count": 18,
   "id": "892e57c6-7748-4dfd-8ea1-76741b36f5ef",
   "metadata": {},
   "outputs": [
    {
     "name": "stdout",
     "output_type": "stream",
     "text": [
      "[array([0.16, 0.04, 0.12, 0.36, 0.2 , 0.04, 0.04, 0.04, 0.  , 0.  , 0.  ,\n",
      "       0.  , 0.  , 0.  , 0.  , 0.  , 0.  , 0.  , 0.  , 0.  , 0.  , 0.  ,\n",
      "       0.  , 0.  , 0.  , 0.  , 0.  , 0.  , 0.  , 0.  , 0.  , 0.  , 0.  ,\n",
      "       0.  , 0.  , 0.  , 0.  , 0.  , 0.  , 0.  , 0.  , 0.  , 0.  , 0.  ,\n",
      "       0.  , 0.  , 0.  , 0.  , 0.  , 0.  , 0.  , 0.  , 0.  ]), array([0.        , 0.11111111, 0.11111111, 0.33333333, 0.22222222,\n",
      "       0.        , 0.11111111, 0.        , 0.11111111, 0.        ,\n",
      "       0.        , 0.        , 0.        , 0.        , 0.        ,\n",
      "       0.        , 0.        , 0.        , 0.        , 0.        ,\n",
      "       0.        , 0.        , 0.        , 0.        , 0.        ,\n",
      "       0.        , 0.        , 0.        , 0.        , 0.        ,\n",
      "       0.        , 0.        , 0.        , 0.        , 0.        ,\n",
      "       0.        , 0.        , 0.        , 0.        , 0.        ,\n",
      "       0.        , 0.        , 0.        , 0.        , 0.        ,\n",
      "       0.        , 0.        , 0.        , 0.        , 0.        ,\n",
      "       0.        , 0.        , 0.        ]), array([0. , 0.1, 0. , 0.6, 0.1, 0. , 0.1, 0. , 0. , 0.1, 0. , 0. , 0. ,\n",
      "       0. , 0. , 0. , 0. , 0. , 0. , 0. , 0. , 0. , 0. , 0. , 0. , 0. ,\n",
      "       0. , 0. , 0. , 0. , 0. , 0. , 0. , 0. , 0. , 0. , 0. , 0. , 0. ,\n",
      "       0. , 0. , 0. , 0. , 0. , 0. , 0. , 0. , 0. , 0. , 0. , 0. , 0. ,\n",
      "       0. ]), array([0.09090909, 0.        , 0.        , 0.27272727, 0.36363636,\n",
      "       0.        , 0.        , 0.        , 0.        , 0.        ,\n",
      "       0.18181818, 0.09090909, 0.        , 0.        , 0.        ,\n",
      "       0.        , 0.        , 0.        , 0.        , 0.        ,\n",
      "       0.        , 0.        , 0.        , 0.        , 0.        ,\n",
      "       0.        , 0.        , 0.        , 0.        , 0.        ,\n",
      "       0.        , 0.        , 0.        , 0.        , 0.        ,\n",
      "       0.        , 0.        , 0.        , 0.        , 0.        ,\n",
      "       0.        , 0.        , 0.        , 0.        , 0.        ,\n",
      "       0.        , 0.        , 0.        , 0.        , 0.        ,\n",
      "       0.        , 0.        , 0.        ]), array([0. , 0. , 0. , 0.5, 0. , 0. , 0. , 0. , 0. , 0. , 0. , 0.5, 0. ,\n",
      "       0. , 0. , 0. , 0. , 0. , 0. , 0. , 0. , 0. , 0. , 0. , 0. , 0. ,\n",
      "       0. , 0. , 0. , 0. , 0. , 0. , 0. , 0. , 0. , 0. , 0. , 0. , 0. ,\n",
      "       0. , 0. , 0. , 0. , 0. , 0. , 0. , 0. , 0. , 0. , 0. , 0. , 0. ,\n",
      "       0. ]), [], [], [], array([0. , 0.5, 0. , 0. , 0. , 0. , 0. , 0. , 0. , 0. , 0. , 0.5, 0. ,\n",
      "       0. , 0. , 0. , 0. , 0. , 0. , 0. , 0. , 0. , 0. , 0. , 0. , 0. ,\n",
      "       0. , 0. , 0. , 0. , 0. , 0. , 0. , 0. , 0. , 0. , 0. , 0. , 0. ,\n",
      "       0. , 0. , 0. , 0. , 0. , 0. , 0. , 0. , 0. , 0. , 0. , 0. , 0. ,\n",
      "       0. ]), [], []]\n"
     ]
    }
   ],
   "source": [
    "#4将用户的打卡分到每个月，得到时期的打卡概率\n",
    "#4.1读取用户打卡的每月信息\n",
    "with open('/home/jovyan/datasets/tsmc_nyc_3_groupby_user_chronological/month.pkl','rb') as f:\n",
    "    months=pickle.load(f)\n",
    "'''\n",
    "foursquare的时间跨度为2012.4-2013.2，没有月数字重复\n",
    "共11个月数字\n",
    "'''\n",
    "#4.2根据该用户所有打卡，将其分到11个时期中\n",
    "user_month=months[0]\n",
    "reversed_user_month=user_month[::-1]\n",
    "span_month=[4,5,6,7,8,9,10,11,12,1,2]\n",
    "period_second=[[]]*len(span_month)\n",
    "for i in span_month:#遍历数据集中的时期\n",
    "    if i in user_month:#如果用户在i月打卡\n",
    "        #那么将该月打卡的second_id放到对应月列表的位置\n",
    "        start=user_month.index(i)#得到切片起始\n",
    "        end=len_user_checkin-reversed_user_month.index(i)#省去-1，因为下面切片，切片是右开区间\n",
    "        period_second[span_month.index(i)]=user_combined_second_cat_id[start:end]\n",
    "#4.3计算每个时期的打卡频率\n",
    "# print(period_second)\n",
    "len_period=len(span_month)\n",
    "x_ujc=Compute_period_prob(len_period,period_second,combined_second_reindex_id)\n",
    "print(x_ujc)"
   ]
  },
  {
   "cell_type": "code",
   "execution_count": 8,
   "id": "afdf1573-114f-4b46-8bee-bed4197462d1",
   "metadata": {},
   "outputs": [
    {
     "name": "stdout",
     "output_type": "stream",
     "text": [
      "[0.0847457627118644, 0.06779661016949153, 0.06779661016949153, 0.3728813559322034, 0.2033898305084746, 0.01694915254237288, 0.05084745762711865, 0.01694915254237288, 0.01694915254237288, 0.01694915254237288, 0.03389830508474576, 0.05084745762711865, 0.0, 0.0, 0.0, 0.0, 0.0, 0.0, 0.0, 0.0, 0.0, 0.0, 0.0, 0.0, 0.0, 0.0, 0.0, 0.0, 0.0, 0.0, 0.0, 0.0, 0.0, 0.0, 0.0, 0.0, 0.0, 0.0, 0.0, 0.0, 0.0, 0.0, 0.0, 0.0, 0.0, 0.0, 0.0, 0.0, 0.0, 0.0, 0.0, 0.0, 0.0] \n",
      " [0, 1, 2, 3, 4, 5, 6, 7, 8, 9, 10, 11, 12, 13, 14, 15, 16, 17, 18, 19, 20, 21, 22, 23, 24, 25, 26, 27, 28, 29, 30, 31, 32, 33, 34, 35, 36, 37, 38, 39, 40, 41, 42, 43, 44, 45, 46, 47, 48, 49, 50, 51, 52] \n",
      " 53\n"
     ]
    }
   ],
   "source": [
    "#5算法主体\n",
    "#5.1\n",
    "def Get_Cde_Guec(d,guc,combined_second_reindex_id):\n",
    "    '''\n",
    "    guc,combined_second_reindex_id:list,le=53\n",
    "    return C_de:用户根据d划分的关键种类，G_uec:关键种类在用户所有打卡中的概率\n",
    "    '''\n",
    "    G_uec=[x for x in guc if x>=d]#先获得关键种类上的概率\n",
    "    dc_mask=[1 if x>=d else 0 for x in guc]#对关键种类的位置取1，否则取0\n",
    "    C_de=[val for val,m in zip(combined_second_reindex_id,dc_mask) if m]\n",
    "    return G_uec,C_de,dc_mask\n",
    "#5.1.1验证\n",
    "G_uec,C_de,dc_mask=Get_Cde_Guec(0.00,g_uc,combined_second_reindex_id)\n",
    "print(G_uec,'\\n',C_de,'\\n',len(G_uec))"
   ]
  },
  {
   "cell_type": "code",
   "execution_count": 9,
   "id": "f316fff0-e8bf-4973-86bb-0d35cc1cbffa",
   "metadata": {},
   "outputs": [
    {
     "name": "stdout",
     "output_type": "stream",
     "text": [
      "[0.16, 0.04, 0.12, 0.36, 0.2, 0.04, 0.04, 0.04, 0.0, 0.0, 0.0, 0.0, 0.0, 0.0, 0.0, 0.0, 0.0, 0.0, 0.0, 0.0, 0.0, 0.0, 0.0, 0.0, 0.0, 0.0, 0.0, 0.0, 0.0, 0.0, 0.0, 0.0, 0.0, 0.0, 0.0, 0.0, 0.0, 0.0, 0.0, 0.0, 0.0, 0.0, 0.0, 0.0, 0.0, 0.0, 0.0, 0.0, 0.0, 0.0, 0.0, 0.0, 0.0]\n"
     ]
    }
   ],
   "source": [
    "#5.2\n",
    "def Get_xuec(d,x_ujc,dc_mask):\n",
    "    '''\n",
    "    获得在时期上关键种类的概率\n",
    "    x_ujc:用户在j时期上关键种类的概率2d list,(j,53)\n",
    "    dc_mask:整体上关键种类的位置mask\n",
    "    return:x_ujec,在时期上关键种类的概率\n",
    "    '''\n",
    "    x_uec=[[val for val,m in zip(sub_ujc,dc_mask) if m] for sub_ujc in x_ujc]\n",
    "    return x_uec\n",
    "#5.2.1验证\n",
    "G_uec,C_de,dc_mask=Get_Cde_Guec(0,g_uc,combined_second_reindex_id)\n",
    "x_ujec=Get_xuec(0,x_ujc,dc_mask)\n",
    "print(x_ujec[0])"
   ]
  },
  {
   "cell_type": "code",
   "execution_count": 10,
   "id": "92d8016e-150d-42ea-b073-7f1012212711",
   "metadata": {},
   "outputs": [],
   "source": [
    "#5.3\n",
    "def KL(g_uec,x_ujec):\n",
    "    '''\n",
    "    x_ujec:1d list,j时期上关键种类的概率\n",
    "    '''\n",
    "    KLresult=0\n",
    "    len_guec=len(g_uec)\n",
    "    for gi,xi in zip(g_uec,x_ujec):\n",
    "        if  xi != 0:\n",
    "            m_ui=xi*(math.log(xi/gi))\n",
    "        else:\n",
    "            m_ui=math.inf\n",
    "        KLresult+=m_ui\n",
    "    return KLresult"
   ]
  },
  {
   "cell_type": "code",
   "execution_count": 22,
   "id": "683ac271-9583-4850-9d97-518409894195",
   "metadata": {},
   "outputs": [
    {
     "name": "stdout",
     "output_type": "stream",
     "text": [
      "0.06\n"
     ]
    }
   ],
   "source": [
    "#5.-1算法主题\n",
    "def Compute_du(user_cat_id,g_uc,x_ujc,combined_second_reindex_id,span_month):\n",
    "    '''\n",
    "    user_cat_id:用户的打卡种类列表 1d_list\n",
    "    g_uc:用户在所有种类的概率 1d list,len:53,所有种类个数\n",
    "    x_ujc:用户在j时期上关键种类的概率2d list,(j,53)\n",
    "    combined_second_reindex_id:所有的二级目录id，顺序和用户的打卡概率相同\n",
    "    span_month:时期的跨度列表\n",
    "    '''\n",
    "    KLsum=0\n",
    "    min=math.inf\n",
    "    J=len(span_month)#时期跨度的长度\n",
    "    for i in range(100):\n",
    "        d=i/100\n",
    "        G_uec,C_de,dc_mask=Get_Cde_Guec(d,g_uc,combined_second_reindex_id)#5.1\n",
    "        \n",
    "        sum_g=sum(G_uec)\n",
    "        norm_G_uec=[val/sum_g for val in G_uec]#对G_uec归一化\n",
    "        x_uec=Get_xuec(d,x_ujc,dc_mask)#5.2得到用户在时期关键种类上的概率\n",
    "        for j in range(J):\n",
    "            x_ujec=x_uec[j]#用户在某时期的概率\n",
    "            \n",
    "            sum_j=sum(x_ujec)\n",
    "            norm_x_ujec=[val/sum_j for val in x_ujec]#对j时期关键种类概率归一化\n",
    "            KLsum+=KL(norm_G_uec,norm_x_ujec)#5.4\n",
    "        if KLsum<=min:\n",
    "            min=KLsum\n",
    "            du=d\n",
    "    return du\n",
    "#测试5.-1\n",
    "du=Compute_du(user_combined_second_cat_id,g_uc,x_ujc,combined_second_reindex_id,span_month)\n",
    "print(du)"
   ]
  },
  {
   "cell_type": "code",
   "execution_count": 12,
   "id": "7c4f3596-d6d7-47f6-8cc1-13c58d012118",
   "metadata": {},
   "outputs": [],
   "source": [
    "#6获取关键种类\n",
    "'''\n",
    "对第100个用户取关键种类\n",
    "'''\n",
    "def Get_essential_second(du,g_uc,combined_second_reindex_id):\n",
    "    '''\n",
    "    取关键种类和相应mask\n",
    "    g_uc:用户在种类上的打卡概率 1d_list，顺序和combined_second_reindex_id相同\n",
    "    '''\n",
    "    user_essential_second_pro=[val for val in g_uc if val>=du]\n",
    "    #计算对应的种类\n",
    "    user_essential_mask=[1 if val>=du else 0 for val in g_uc]\n",
    "    user_essential_second=[val for val,m in zip(combined_second_reindex_id,user_essential_mask) if m]\n",
    "    user_non_essential_second=[val for val,m in zip(combined_second_reindex_id,user_essential_mask) if not m]\n",
    "    return user_essential_second,user_non_essential_second,user_essential_mask\n",
    "user_essential_second,user_non_essential_second,user_essential_mask=Get_essential_second(du,g_uc,combined_second_reindex_id)#53个种类，缩减到5个种类,列表顺序是所有二级种类列表的顺序，不是用户打卡的顺序，用户打卡有57个\n",
    "# print(len(user_essential_second),len(user_non_essential_second))"
   ]
  },
  {
   "cell_type": "code",
   "execution_count": 38,
   "id": "9181e17b-6dad-4e8b-a53f-c105c81654dd",
   "metadata": {},
   "outputs": [
    {
     "name": "stdout",
     "output_type": "stream",
     "text": [
      "[0.0847457627118644, 0.06779661016949153, 0.06779661016949153, 0.3728813559322034, 0.2033898305084746, 0.03202108203289859, 0.07638881052609106, 0.03202108203289859, 0.03202108203289859, 0.03202108203289859, 0.05636962604391176, 0.07638881052609106, 0.0, 0.0, 0.0, 0.0, 0.0, 0.0, 0.0, 0.0, 0.0, 0.0, 0.0, 0.0, 0.0, 0.0, 0.0, 0.0, 0.0, 0.0, 0.0, 0.0, 0.0, 0.0, 0.0, 0.0, 0.0, 0.0, 0.0, 0.0, 0.0, 0.0, 0.0, 0.0, 0.0, 0.0, 0.0, 0.0, 0.0, 0.0, 0.0, 0.0, 0.0]\n"
     ]
    }
   ],
   "source": [
    "#7计算两类权重\n",
    "def Compute_all_second_importance(user_essential_second,user_non_essential_second,combined_second_reindex_id,g_uc,user_combined_second_cat_id):\n",
    "    second_importance=[0]*len(combined_second_reindex_id)\n",
    "    for e in user_essential_second:\n",
    "        index=combined_second_reindex_id.index(e)\n",
    "        second_importance[index]=g_uc[index]\n",
    "    for ne in user_non_essential_second:\n",
    "        index=combined_second_reindex_id.index(ne)\n",
    "        _,fre_uc=Compute_probability(user_combined_second_cat_id,combined_second_reindex_id)\n",
    "        g_uci=g_uc[index]\n",
    "        ln=math.log(len(user_combined_second_cat_id)/(1+fre_uc[index]))\n",
    "        numerator=g_uci*ln\n",
    "        denominator=0\n",
    "        for i in range(len(user_non_essential_second)):\n",
    "            denominator_inside=g_uc[i]*(math.log(len(user_combined_second_cat_id)/(1+fre_uc[i])))\n",
    "            denominator+=denominator_inside\n",
    "        second_importance[index]=numerator/denominator\n",
    "    return second_importance\n",
    "# second_importance=Compute_all_second_importance(user_essential_second,user_non_essential_second,combined_second_reindex_id,g_uc,user_combined_second_cat_id)\n",
    "# print(len(second_importance))\n",
    "# print(second_importance)\n",
    "# print(user_essential_mask)"
   ]
  },
  {
   "cell_type": "code",
   "execution_count": 14,
   "id": "05dfebed-e126-4964-a8fb-2edb23dcce79",
   "metadata": {},
   "outputs": [
    {
     "data": {
      "text/plain": [
       "14"
      ]
     },
     "execution_count": 14,
     "metadata": {},
     "output_type": "execute_result"
    }
   ],
   "source": [
    "len(set([21, 9, 3, 3, 10, 12, 22, 3, 3, 3, 3, 2, 3, 13, 2, 19, 8, 13, 3, 27, 9, 3, 22, 3, 3, 10, 13, 3, 22, 3, 6, 6, 3, 6, 6, 13, 6, 3, 9, 3, 25, 3, 13, 25, 3, 19, 3, 25, 25, 3, 3, 0, 25, 9, 3, 3, 25]))"
   ]
  },
  {
   "cell_type": "code",
   "execution_count": 35,
   "id": "07e60185-2bc0-4466-9008-d83c24fd4530",
   "metadata": {},
   "outputs": [
    {
     "name": "stdout",
     "output_type": "stream",
     "text": [
      "[[0, 1, 2, 3, 3, 3, 4, 0, 4, 5, 4, 3, 3, 6, 4, 3, 2, 3, 7, 2, 4, 3, 0, 3, 0], [8, 6, 4, 1, 3, 2, 3, 3, 4], [1, 9, 4, 3, 3, 3, 3, 3, 3, 6], [3, 4, 10, 0, 4, 3, 10, 4, 4, 11, 3], [3, 11], [], [], [], [1, 11], [], []]\n"
     ]
    }
   ],
   "source": [
    "#8对一个用户所有打卡都做种类权重生成\n",
    "#8.1算法主题\n",
    "def User_importance_second(user_checkins,combined_second_id,span_month,user_months):\n",
    "    '''\n",
    "    user_checkins:一个用户的所有打卡，1d list\n",
    "    combined_second_id:数据集中出现的second_id,1d_list\n",
    "    span_month:数据集出现的月份时间跨度\n",
    "    user_month:用户打卡的月份\n",
    "    return:second_importance该用户所有的关键种类和对应权重，2d list，(时间步，二级种类个数)\n",
    "    '''\n",
    "    len_timestep=len(user_checkins)\n",
    "    len_period=len(span_month)\n",
    "    second_importance=[]\n",
    "    #8.1循环该用户的时间步\n",
    "    for i in range(1,len_timestep+1):#从0开始切得空列表，并且切不到最后一个序列，左闭右开列表\n",
    "        present_checkin=user_checkins[:i]#对用户切片，得到用户[:i]种类的切片\n",
    "        present_month=user_months[:i]\n",
    "        len_present=i\n",
    "        g_uc_present,_=Compute_probability(present_checkin,combined_second_id)#计算整体种类的概率\n",
    "        #计算时期的概率\n",
    "        period_second=Split_period(present_month,span_month,len_present,present_checkin)#将当前打卡划分到月份中\n",
    "        x_uc=Compute_period_prob(len_period,period_second,combined_second_id)#计算月份中的打卡概率\n",
    "        #计算此时打卡下的du\n",
    "        du_present=Compute_du(present_checkin,g_uc,x_uc,combined_second_id,span_month)\n",
    "        #获取关键种类\n",
    "        user_essential_second_present,user_non_essential_present,user_essential_mask=Get_essential_second(du_present,g_uc_present,combined_second_id)\n",
    "        #计算两类权重\n",
    "        second_importance_present=Compute_all_second_importance(user_essential_second_present,user_non_essential_present,combined_second_id,g_uc_present,user_combined_second_cat_id)\n",
    "        \n",
    "        second_importance.append(second_importance_present)#更新时间步结果\n",
    "    return second_importance\n",
    "#8.2定义将此时打卡之前的数据分到月份里\n",
    "def Split_period(present_month,span_month,len_present,present_checkin):\n",
    "    '''\n",
    "    return:period_second 2d list,用户在月份中打卡的种类id（月份，在该月份中的打卡），若在该月没有打卡，则该位置取[]\n",
    "    '''\n",
    "    reversed_present_month=present_month[::-1]\n",
    "    period_second=[[]]*len(span_month)\n",
    "    for i in span_month:\n",
    "        if i in present_month:\n",
    "            start=present_month.index(i)\n",
    "            end=len_present-reversed_present_month.index(i)\n",
    "            period_second[span_month.index(i)]=present_checkin[start:end]\n",
    "    return period_second\n",
    "\n",
    "# period_second=Split_period(months[0],span_month,len(months[0]),users_combined_second_cat_id[0])\n",
    "# print(period_second)\n",
    "# second_importance=User_importance_second(users_combined_second_cat_id[0],combined_second_reindex_id,span_month,months[0])\n",
    "# print(len(second_importance))\n",
    "# print(second_importance)"
   ]
  },
  {
   "cell_type": "code",
   "execution_count": 37,
   "id": "9fd91de2-28d4-4028-82ee-41a82f7a764d",
   "metadata": {},
   "outputs": [
    {
     "ename": "KeyboardInterrupt",
     "evalue": "",
     "output_type": "error",
     "traceback": [
      "\u001b[0;31m---------------------------------------------------------------------------\u001b[0m",
      "\u001b[0;31mKeyboardInterrupt\u001b[0m                         Traceback (most recent call last)",
      "Cell \u001b[0;32mIn[37], line 16\u001b[0m\n\u001b[1;32m     13\u001b[0m         users_timesteps_importance\u001b[38;5;241m.\u001b[39mappend(u_timestep_importance)\n\u001b[1;32m     14\u001b[0m     \u001b[38;5;28;01mreturn\u001b[39;00m users_timesteps_importance\n\u001b[0;32m---> 16\u001b[0m users_timesteps_importance\u001b[38;5;241m=\u001b[39m\u001b[43mCompute_users_timesteps_importance\u001b[49m\u001b[43m(\u001b[49m\u001b[43musers_combined_second_cat_id\u001b[49m\u001b[43m,\u001b[49m\u001b[43mmonths\u001b[49m\u001b[43m,\u001b[49m\u001b[43mcombined_second_reindex_id\u001b[49m\u001b[43m,\u001b[49m\u001b[43mspan_month\u001b[49m\u001b[43m)\u001b[49m\n\u001b[1;32m     17\u001b[0m \u001b[38;5;28mprint\u001b[39m(users_timesteps_importance[\u001b[38;5;241m0\u001b[39m])\n",
      "Cell \u001b[0;32mIn[37], line 12\u001b[0m, in \u001b[0;36mCompute_users_timesteps_importance\u001b[0;34m(users_combined_second_cat_id, users_month, combined_second_reindex_id, span_month)\u001b[0m\n\u001b[1;32m     10\u001b[0m users_timesteps_importance\u001b[38;5;241m=\u001b[39m[]\n\u001b[1;32m     11\u001b[0m \u001b[38;5;28;01mfor\u001b[39;00m u_s,u_m \u001b[38;5;129;01min\u001b[39;00m \u001b[38;5;28mzip\u001b[39m(users_combined_second_cat_id,users_month):\u001b[38;5;66;03m#循环每个用户\u001b[39;00m\n\u001b[0;32m---> 12\u001b[0m     u_timestep_importance\u001b[38;5;241m=\u001b[39m\u001b[43mUser_importance_second\u001b[49m\u001b[43m(\u001b[49m\u001b[43mu_s\u001b[49m\u001b[43m,\u001b[49m\u001b[43mcombined_second_reindex_id\u001b[49m\u001b[43m,\u001b[49m\u001b[43mspan_month\u001b[49m\u001b[43m,\u001b[49m\u001b[43mu_m\u001b[49m\u001b[43m)\u001b[49m\n\u001b[1;32m     13\u001b[0m     users_timesteps_importance\u001b[38;5;241m.\u001b[39mappend(u_timestep_importance)\n\u001b[1;32m     14\u001b[0m \u001b[38;5;28;01mreturn\u001b[39;00m users_timesteps_importance\n",
      "Cell \u001b[0;32mIn[35], line 28\u001b[0m, in \u001b[0;36mUser_importance_second\u001b[0;34m(user_checkins, combined_second_id, span_month, user_months)\u001b[0m\n\u001b[1;32m     26\u001b[0m     user_essential_second_present,user_non_essential_present,user_essential_mask\u001b[38;5;241m=\u001b[39mGet_essential_second(du_present,g_uc_present,combined_second_id)\n\u001b[1;32m     27\u001b[0m     \u001b[38;5;66;03m#计算两类权重\u001b[39;00m\n\u001b[0;32m---> 28\u001b[0m     second_importance_present\u001b[38;5;241m=\u001b[39m\u001b[43mCompute_all_second_importance\u001b[49m\u001b[43m(\u001b[49m\u001b[43muser_essential_second_present\u001b[49m\u001b[43m,\u001b[49m\u001b[43muser_non_essential_present\u001b[49m\u001b[43m,\u001b[49m\u001b[43mcombined_second_id\u001b[49m\u001b[43m,\u001b[49m\u001b[43mg_uc_present\u001b[49m\u001b[43m,\u001b[49m\u001b[43muser_combined_second_cat_id\u001b[49m\u001b[43m)\u001b[49m\n\u001b[1;32m     30\u001b[0m     second_importance\u001b[38;5;241m.\u001b[39mappend(second_importance_present)\u001b[38;5;66;03m#更新时间步结果\u001b[39;00m\n\u001b[1;32m     31\u001b[0m \u001b[38;5;28;01mreturn\u001b[39;00m second_importance\n",
      "Cell \u001b[0;32mIn[36], line 15\u001b[0m, in \u001b[0;36mCompute_all_second_importance\u001b[0;34m(user_essential_second, user_non_essential_second, combined_second_reindex_id, g_uc, user_combined_second_cat_id)\u001b[0m\n\u001b[1;32m     13\u001b[0m denominator\u001b[38;5;241m=\u001b[39m\u001b[38;5;241m0\u001b[39m\n\u001b[1;32m     14\u001b[0m \u001b[38;5;28;01mfor\u001b[39;00m i \u001b[38;5;129;01min\u001b[39;00m \u001b[38;5;28mrange\u001b[39m(\u001b[38;5;28mlen\u001b[39m(user_non_essential_second)):\n\u001b[0;32m---> 15\u001b[0m     denominator_inside\u001b[38;5;241m=\u001b[39mg_uc[i]\u001b[38;5;241m*\u001b[39m(\u001b[43mmath\u001b[49m\u001b[38;5;241;43m.\u001b[39;49m\u001b[43mlog\u001b[49m\u001b[43m(\u001b[49m\u001b[38;5;28;43mlen\u001b[39;49m\u001b[43m(\u001b[49m\u001b[43muser_combined_second_cat_id\u001b[49m\u001b[43m)\u001b[49m\u001b[38;5;241;43m/\u001b[39;49m\u001b[43m(\u001b[49m\u001b[38;5;241;43m1\u001b[39;49m\u001b[38;5;241;43m+\u001b[39;49m\u001b[43mfre_uc\u001b[49m\u001b[43m[\u001b[49m\u001b[43mi\u001b[49m\u001b[43m]\u001b[49m\u001b[43m)\u001b[49m\u001b[43m)\u001b[49m)\n\u001b[1;32m     16\u001b[0m     denominator\u001b[38;5;241m+\u001b[39m\u001b[38;5;241m=\u001b[39mdenominator_inside\n\u001b[1;32m     17\u001b[0m second_importance[index]\u001b[38;5;241m=\u001b[39mnumerator\u001b[38;5;241m/\u001b[39mdenominator\n",
      "\u001b[0;31mKeyboardInterrupt\u001b[0m: "
     ]
    }
   ],
   "source": [
    "# 9对所有用户计算每个时间步的权重-------------------------------------------------------ROM，using VSCode\n",
    "# 9.1读取所有用户的打卡数据second，month(users_combined_second_cat_id,user_month)\n",
    "def Compute_users_timesteps_importance(users_combined_second_cat_id,users_month,combined_second_reindex_id,span_month):\n",
    "    '''\n",
    "    users_combined_second_cat_id:2d list,(users,checkin_cat)\n",
    "    user_month:2d list,(users,checkin_month)\n",
    "    combined_second_reindex_id:1d list,数据集中所有的种类\n",
    "    return: 3d list,(users,timestep,second)\n",
    "    '''\n",
    "    users_timesteps_importance=[]\n",
    "    for u_s,u_m in zip(users_combined_second_cat_id,users_month):#循环每个用户\n",
    "        u_timestep_importance=User_importance_second(u_s,combined_second_reindex_id,span_month,u_m)\n",
    "        users_timesteps_importance.append(u_timestep_importance)\n",
    "    return users_timesteps_importance\n",
    "\n",
    "users_timesteps_importance=Compute_users_timesteps_importance(users_combined_second_cat_id,months,combined_second_reindex_id,span_month)\n",
    "print(users_timesteps_importance[0])"
   ]
  },
  {
   "cell_type": "code",
   "execution_count": null,
   "id": "37980bce-5f48-4274-86fa-82848759c586",
   "metadata": {},
   "outputs": [],
   "source": [
    "# 10 保存所有用户在所有timestep上对所有种类的重要程度\n",
    "dir_users_timesteps_second_importance='/home/jovyan/datasets/tsmc_nyc_10_users_timesteps_second_importance/users_timesteps_second_importance.pkl'\n",
    "with open(dir_users_timesteps_second_importance,'wb') as f:\n",
    "    pickle.dump(users_timesteps_importance,f)"
   ]
  },
  {
   "cell_type": "code",
   "execution_count": 30,
   "id": "b972ec76-a516-4542-8644-61b93e2bcd74",
   "metadata": {},
   "outputs": [
    {
     "data": {
      "text/plain": [
       "[0]"
      ]
     },
     "execution_count": 30,
     "metadata": {},
     "output_type": "execute_result"
    }
   ],
   "source": [
    "a=[0,1,2,3]\n",
    "a[:1]"
   ]
  },
  {
   "cell_type": "code",
   "execution_count": 32,
   "id": "99e72427-db0b-4e27-9a16-99fdfe29e829",
   "metadata": {},
   "outputs": [
    {
     "name": "stdout",
     "output_type": "stream",
     "text": [
      "1\n",
      "2\n",
      "3\n"
     ]
    }
   ],
   "source": [
    "for i in range(1,4):\n",
    "    print(i)"
   ]
  },
  {
   "cell_type": "code",
   "execution_count": null,
   "id": "e9b23ae4-fdb1-4e68-9405-ecd094c92961",
   "metadata": {},
   "outputs": [],
   "source": []
  }
 ],
 "metadata": {
  "kernelspec": {
   "display_name": "d2l",
   "language": "python",
   "name": "d2l"
  },
  "language_info": {
   "codemirror_mode": {
    "name": "ipython",
    "version": 3
   },
   "file_extension": ".py",
   "mimetype": "text/x-python",
   "name": "python",
   "nbconvert_exporter": "python",
   "pygments_lexer": "ipython3",
   "version": "3.9.18"
  }
 },
 "nbformat": 4,
 "nbformat_minor": 5
}
